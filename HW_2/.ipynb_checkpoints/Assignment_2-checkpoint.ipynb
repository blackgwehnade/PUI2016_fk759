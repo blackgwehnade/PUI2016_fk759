{
 "cells": [
  {
   "cell_type": "code",
   "execution_count": 6,
   "metadata": {
    "collapsed": false
   },
   "outputs": [],
   "source": [
    "import sys\n",
    "import json\n",
    "import numpy as np\n",
    "import pandas as pd\n",
    "try:\n",
    "    import urllib2 as urllib\n",
    "except ImportError:\n",
    "    import urllib.request as urllib"
   ]
  },
  {
   "cell_type": "code",
   "execution_count": 7,
   "metadata": {
    "collapsed": false
   },
   "outputs": [
    {
     "ename": "IndexError",
     "evalue": "list index out of range",
     "output_type": "error",
     "traceback": [
      "\u001b[1;31m---------------------------------------------------------------------------\u001b[0m",
      "\u001b[1;31mIndexError\u001b[0m                                Traceback (most recent call last)",
      "\u001b[1;32m<ipython-input-7-c9ac713b0679>\u001b[0m in \u001b[0;36m<module>\u001b[1;34m()\u001b[0m\n\u001b[0;32m      1\u001b[0m \u001b[0muserkey\u001b[0m \u001b[1;33m=\u001b[0m \u001b[0msys\u001b[0m\u001b[1;33m.\u001b[0m\u001b[0margv\u001b[0m\u001b[1;33m[\u001b[0m\u001b[1;36m1\u001b[0m\u001b[1;33m]\u001b[0m\u001b[1;33m\u001b[0m\u001b[0m\n\u001b[0;32m      2\u001b[0m \u001b[0mbusnum\u001b[0m \u001b[1;33m=\u001b[0m \u001b[0msys\u001b[0m\u001b[1;33m.\u001b[0m\u001b[0margv\u001b[0m\u001b[1;33m[\u001b[0m\u001b[1;36m2\u001b[0m\u001b[1;33m]\u001b[0m\u001b[1;33m\u001b[0m\u001b[0m\n\u001b[1;32m----> 3\u001b[1;33m \u001b[0moutputfile\u001b[0m \u001b[1;33m=\u001b[0m \u001b[0msys\u001b[0m\u001b[1;33m.\u001b[0m\u001b[0margv\u001b[0m\u001b[1;33m[\u001b[0m\u001b[1;36m3\u001b[0m\u001b[1;33m]\u001b[0m\u001b[1;33m\u001b[0m\u001b[0m\n\u001b[0m\u001b[0;32m      4\u001b[0m \u001b[1;33m\u001b[0m\u001b[0m\n\u001b[0;32m      5\u001b[0m \u001b[0mbus_key\u001b[0m \u001b[1;33m=\u001b[0m \u001b[1;34m'8fb4f0dc-8ff5-4dcf-8f53-4fde1a25b0c7'\u001b[0m\u001b[1;33m\u001b[0m\u001b[0m\n",
      "\u001b[1;31mIndexError\u001b[0m: list index out of range"
     ]
    }
   ],
   "source": [
    "userkey = sys.argv[1]\n",
    "busnum = sys.argv[2]\n",
    "outputfile = sys.argv[3]\n",
    "\n",
    "bus_key = '8fb4f0dc-8ff5-4dcf-8f53-4fde1a25b0c7'\n",
    "bus_line = 'M15'\n",
    "def display_bus_approach_status(bus_key, bus_line):\n",
    "    \n",
    "    def get_jsonparsed_data(url):\n",
    "        \n",
    "        response = urllib.urlopen(url)\n",
    "        data = response.read().decode(\"utf-8\")\n",
    "        return json.loads(data)\n",
    "    \n",
    "    \"\"\"\n",
    "    from http://stackoverflow.com/questions/12965203/how-to-get-json-from-webpage-into-python-script\n",
    "    Receive the content of ``url``, parse it as JSON and return the object.\n",
    "\n",
    "    Parameters\n",
    "    ----------\n",
    "    url : str\n",
    "\n",
    "    Returns\n",
    "    -------\n",
    "    dict\n",
    "    \"\"\"\n",
    "    url = \"http://bustime.mta.info/api/siri/vehicle-monitoring.json?key=\" + bus_key + \"&VehicleMonitoringDetailLevel=calls&LineRef=\" + bus_line\n",
    "    buses = get_jsonparsed_data(url)\n",
    "    active_buses = len(buses['Siri']['ServiceDelivery']['VehicleMonitoringDelivery'][0]['VehicleActivity'])\n",
    "    my_buses = buses['Siri']['ServiceDelivery']['VehicleMonitoringDelivery'][0]['VehicleActivity']\n",
    "    \n",
    "    df = pd.DataFrame([], columns=list(['Latitude', 'Longitude', 'Stop_Name', 'Distance_Away']))\n",
    "    \n",
    "    print (\"Requested Bus Service: \" + bus_line)\n",
    "    print (\"Total # of Buses active on route: \" + str(active_buses))\n",
    "    for i in range(active_buses):\n",
    "        bus_pos = my_buses[i]['MonitoredVehicleJourney']['VehicleLocation']\n",
    "        bus_stop_next = my_buses[i]['MonitoredVehicleJourney']['MonitoredCall']\n",
    "        stations_away = my_buses[i]['MonitoredVehicleJourney']['OnwardCalls']['OnwardCall'][0]['Extensions']['Distances']\n",
    "        print (\"Bus number %i is at coordinates: (%f, %f). The next stop is %s, and the bus is currently %s  \" % (i, bus_pos['Latitude'], bus_pos['Longitude'], bus_stop_next['StopPointName'], stations_away['PresentableDistance']))\n",
    "        df.loc[len(df)] = [bus_pos['Latitude'], bus_pos['Longitude'], bus_stop_next['StopPointName'], stations_away['PresentableDistance']]\n",
    "    df.to_csv(path_or_buf = outputfile)\n",
    "display_bus_approach_status(bus_key, bus_line)"
   ]
  },
  {
   "cell_type": "code",
   "execution_count": null,
   "metadata": {
    "collapsed": true
   },
   "outputs": [],
   "source": []
  }
 ],
 "metadata": {
  "kernelspec": {
   "display_name": "Python 2",
   "language": "python",
   "name": "python2"
  },
  "language_info": {
   "codemirror_mode": {
    "name": "ipython",
    "version": 2
   },
   "file_extension": ".py",
   "mimetype": "text/x-python",
   "name": "python",
   "nbconvert_exporter": "python",
   "pygments_lexer": "ipython2",
   "version": "2.7.11"
  }
 },
 "nbformat": 4,
 "nbformat_minor": 0
}
