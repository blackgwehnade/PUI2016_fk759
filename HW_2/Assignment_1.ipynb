{
 "cells": [
  {
   "cell_type": "code",
   "execution_count": 1,
   "metadata": {
    "collapsed": false
   },
   "outputs": [],
   "source": [
    "from __future__ import print_function\n",
    "import os\n",
    "import sys\n",
    "import json\n",
    "import csv\n",
    "import pandas as pd\n",
    "import numpy as np\n",
    "import pylab as pl\n",
    "from pandas.io.json import json_normalize\n",
    "from pandas import Series, DataFrame\n",
    "from numpy.random import randn\n",
    "try:\n",
    "    import urllib2 as urllib\n",
    "except ImportError:\n",
    "    import urllib.request as urllib"
   ]
  },
  {
   "cell_type": "code",
   "execution_count": 2,
   "metadata": {
    "collapsed": false
   },
   "outputs": [
    {
     "name": "stdout",
     "output_type": "stream",
     "text": [
      "Please enter bus number here: M15\n",
      "Requested Bus Service: M15\n",
      "Total # of Buses active on route: 16\n",
      "Bus number 0 is at latitude: 40.701603 and longitude: -74.011974  \n",
      "Bus number 1 is at latitude: 40.719411 and longitude: -73.990149  \n",
      "Bus number 2 is at latitude: 40.758218 and longitude: -73.962990  \n",
      "Bus number 3 is at latitude: 40.758116 and longitude: -73.966160  \n",
      "Bus number 4 is at latitude: 40.753581 and longitude: -73.969463  \n",
      "Bus number 5 is at latitude: 40.769969 and longitude: -73.957513  \n",
      "Bus number 6 is at latitude: 40.773251 and longitude: -73.952018  \n",
      "Bus number 7 is at latitude: 40.782322 and longitude: -73.948496  \n",
      "Bus number 8 is at latitude: 40.798208 and longitude: -73.936894  \n",
      "Bus number 9 is at latitude: 40.719956 and longitude: -73.992513  \n",
      "Bus number 10 is at latitude: 40.755715 and longitude: -73.964815  \n",
      "Bus number 11 is at latitude: 40.752021 and longitude: -73.967429  \n",
      "Bus number 12 is at latitude: 40.758701 and longitude: -73.965734  \n",
      "Bus number 13 is at latitude: 40.802264 and longitude: -73.933926  \n",
      "Bus number 14 is at latitude: 40.751743 and longitude: -73.967633  \n",
      "Bus number 15 is at latitude: 40.720158 and longitude: -73.992810  \n"
     ]
    }
   ],
   "source": [
    "bus_key = '8fb4f0dc-8ff5-4dcf-8f53-4fde1a25b0c7'\n",
    "bus_line = raw_input('Please enter bus number here: ')\n",
    "def display_bus_location(bus_key, bus_line):\n",
    "           \n",
    "    def get_jsonparsed_data(url):\n",
    "        \n",
    "        response = urllib.urlopen(url)\n",
    "        data = response.read().decode(\"utf-8\")\n",
    "        return json.loads(data)\n",
    "    \n",
    "    \"\"\"\n",
    "    from http://stackoverflow.com/questions/12965203/how-to-get-json-from-webpage-into-python-script\n",
    "    Receive the content of ``url``, parse it as JSON and return the object.\n",
    "\n",
    "    Parameters\n",
    "    ----------\n",
    "    url : str\n",
    "\n",
    "    Returns\n",
    "    -------\n",
    "    dict\n",
    "    \"\"\"\n",
    "\n",
    "    url = \"http://bustime.mta.info/api/siri/vehicle-monitoring.json?key=\" + bus_key + \"&VehicleMonitoringDetailLevel=calls&LineRef=\" + bus_line\n",
    "    buses = get_jsonparsed_data(url)\n",
    "    active_buses = len(buses['Siri']['ServiceDelivery']['VehicleMonitoringDelivery'][0]['VehicleActivity'])\n",
    "    my_buses = buses['Siri']['ServiceDelivery']['VehicleMonitoringDelivery'][0]['VehicleActivity']\n",
    "    \n",
    "    \n",
    "    print (\"Requested Bus Service: \" + bus_line)\n",
    "    print (\"Total # of Buses active on route: \" + str(active_buses))\n",
    "    for i in range(active_buses):\n",
    "        locatebus = my_buses[i]['MonitoredVehicleJourney']['VehicleLocation']\n",
    "        print (\"Bus number %i is at latitude: %f and longitude: %f  \" % (i, locatebus['Latitude'], locatebus['Longitude']))\n",
    "        \n",
    "display_bus_location(bus_key, bus_line)"
   ]
  },
  {
   "cell_type": "markdown",
   "metadata": {},
   "source": []
  },
  {
   "cell_type": "code",
   "execution_count": null,
   "metadata": {
    "collapsed": true
   },
   "outputs": [],
   "source": []
  }
 ],
 "metadata": {
  "kernelspec": {
   "display_name": "PUI2016_Python2",
   "language": "python",
   "name": "pui2016_python2"
  },
  "language_info": {
   "codemirror_mode": {
    "name": "ipython",
    "version": 2
   },
   "file_extension": ".py",
   "mimetype": "text/x-python",
   "name": "python",
   "nbconvert_exporter": "python",
   "pygments_lexer": "ipython2",
   "version": "2.7.12"
  }
 },
 "nbformat": 4,
 "nbformat_minor": 0
}
