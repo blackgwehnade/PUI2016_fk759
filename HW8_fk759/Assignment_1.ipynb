{
 "cells": [
  {
   "cell_type": "code",
   "execution_count": 1,
   "metadata": {
    "collapsed": false
   },
   "outputs": [],
   "source": [
    "import os\n",
    "import pandas as pd\n",
    "import numpy as np\n",
    "import re"
   ]
  },
  {
   "cell_type": "code",
   "execution_count": 2,
   "metadata": {
    "collapsed": true
   },
   "outputs": [],
   "source": [
    "PUIdata = os.getenv('PUIDATA')"
   ]
  },
  {
   "cell_type": "code",
   "execution_count": 3,
   "metadata": {
    "collapsed": false,
    "scrolled": false
   },
   "outputs": [],
   "source": [
    "df_cusp = pd.read_csv('/projects/open/NYCOpenData/nycopendata/data/erm2-nwe9/1446832678/erm2-nwe9', usecols = [0, 23])"
   ]
  },
  {
   "cell_type": "code",
   "execution_count": 4,
   "metadata": {
    "collapsed": false
   },
   "outputs": [
    {
     "data": {
      "text/plain": [
       "Index(['Unique Key', 'Community Board'], dtype='object')"
      ]
     },
     "execution_count": 4,
     "metadata": {},
     "output_type": "execute_result"
    }
   ],
   "source": [
    "df_cusp.columns"
   ]
  },
  {
   "cell_type": "code",
   "execution_count": 5,
   "metadata": {
    "collapsed": false
   },
   "outputs": [],
   "source": [
    "df_cusp = df_cusp.drop_duplicates('Community Board')"
   ]
  },
  {
   "cell_type": "code",
   "execution_count": 7,
   "metadata": {
    "collapsed": false
   },
   "outputs": [
    {
     "data": {
      "text/plain": [
       "0                      13 BROOKLYN\n",
       "1                    0 Unspecified\n",
       "2                      18 BROOKLYN\n",
       "3                      12 BROOKLYN\n",
       "5                 02 STATEN ISLAND\n",
       "7                     08 MANHATTAN\n",
       "8                      06 BROOKLYN\n",
       "10                        10 BRONX\n",
       "11                    06 MANHATTAN\n",
       "12                     04 BROOKLYN\n",
       "13                       04 QUEENS\n",
       "14                    09 MANHATTAN\n",
       "15                     14 BROOKLYN\n",
       "16                    05 MANHATTAN\n",
       "18                    02 MANHATTAN\n",
       "19                       10 QUEENS\n",
       "20                       07 QUEENS\n",
       "21                       02 QUEENS\n",
       "23                     11 BROOKLYN\n",
       "24                       05 QUEENS\n",
       "25                     05 BROOKLYN\n",
       "27                       09 QUEENS\n",
       "32                    12 MANHATTAN\n",
       "34                     01 BROOKLYN\n",
       "36                    11 MANHATTAN\n",
       "37                        03 BRONX\n",
       "39                03 STATEN ISLAND\n",
       "40                     08 BROOKLYN\n",
       "43                     03 BROOKLYN\n",
       "46                    07 MANHATTAN\n",
       "                   ...            \n",
       "118                       05 BRONX\n",
       "119                    15 BROOKLYN\n",
       "121                    02 BROOKLYN\n",
       "127                       12 BRONX\n",
       "130                      03 QUEENS\n",
       "145                      06 QUEENS\n",
       "147               01 STATEN ISLAND\n",
       "159                       01 BRONX\n",
       "163                      01 QUEENS\n",
       "169                    17 BROOKLYN\n",
       "186                       11 BRONX\n",
       "218             Unspecified QUEENS\n",
       "223                    09 BROOKLYN\n",
       "231          Unspecified MANHATTAN\n",
       "234           Unspecified BROOKLYN\n",
       "236                    07 BROOKLYN\n",
       "489              Unspecified BRONX\n",
       "2404                  64 MANHATTAN\n",
       "3798                     81 QUEENS\n",
       "5218                   55 BROOKLYN\n",
       "5733                     83 QUEENS\n",
       "6284     Unspecified STATEN ISLAND\n",
       "6378                      28 BRONX\n",
       "8430                     80 QUEENS\n",
       "8455                      26 BRONX\n",
       "9516              95 STATEN ISLAND\n",
       "17464                    82 QUEENS\n",
       "27661                     27 BRONX\n",
       "32926                  56 BROOKLYN\n",
       "41764                    84 QUEENS\n",
       "Name: Community Board, dtype: object"
      ]
     },
     "execution_count": 7,
     "metadata": {},
     "output_type": "execute_result"
    }
   ],
   "source": [
    "df_cusp['Community Board']"
   ]
  },
  {
   "cell_type": "code",
   "execution_count": 14,
   "metadata": {
    "collapsed": false
   },
   "outputs": [
    {
     "data": {
      "text/plain": [
       "array(['13 BROOKLYN', '0 Unspecified', '18 BROOKLYN', '12 BROOKLYN',\n",
       "       '02 STATEN ISLAND', '08 MANHATTAN', '06 BROOKLYN', '10 BRONX',\n",
       "       '06 MANHATTAN', '04 BROOKLYN', '04 QUEENS', '09 MANHATTAN',\n",
       "       '14 BROOKLYN', '05 MANHATTAN', '02 MANHATTAN', '10 QUEENS',\n",
       "       '07 QUEENS', '02 QUEENS', '11 BROOKLYN', '05 QUEENS', '05 BROOKLYN',\n",
       "       '09 QUEENS', '12 MANHATTAN', '01 BROOKLYN', '11 MANHATTAN',\n",
       "       '03 BRONX', '03 STATEN ISLAND', '08 BROOKLYN', '03 BROOKLYN',\n",
       "       '07 MANHATTAN', '10 MANHATTAN', '04 BRONX', '01 MANHATTAN',\n",
       "       '07 BRONX', '09 BRONX', '03 MANHATTAN', '13 QUEENS', '02 BRONX',\n",
       "       '12 QUEENS', '16 BROOKLYN', '08 QUEENS', '04 MANHATTAN',\n",
       "       '14 QUEENS', '10 BROOKLYN', '11 QUEENS', '06 BRONX', '08 BRONX',\n",
       "       '05 BRONX', '15 BROOKLYN', '02 BROOKLYN', '12 BRONX', '03 QUEENS',\n",
       "       '06 QUEENS', '01 STATEN ISLAND', '01 BRONX', '01 QUEENS',\n",
       "       '17 BROOKLYN', '11 BRONX', 'Unspecified QUEENS', '09 BROOKLYN',\n",
       "       'Unspecified MANHATTAN', 'Unspecified BROOKLYN', '07 BROOKLYN',\n",
       "       'Unspecified BRONX', '64 MANHATTAN', '81 QUEENS', '55 BROOKLYN',\n",
       "       '83 QUEENS', 'Unspecified STATEN ISLAND', '28 BRONX', '80 QUEENS',\n",
       "       '26 BRONX', '95 STATEN ISLAND', '82 QUEENS', '27 BRONX',\n",
       "       '56 BROOKLYN', '84 QUEENS'], dtype=object)"
      ]
     },
     "execution_count": 14,
     "metadata": {},
     "output_type": "execute_result"
    }
   ],
   "source": [
    "cdist_1 = df_cusp['Community Board'].unique()\n",
    "cdist_1"
   ]
  },
  {
   "cell_type": "code",
   "execution_count": 15,
   "metadata": {
    "collapsed": false
   },
   "outputs": [
    {
     "data": {
      "text/plain": [
       "77"
      ]
     },
     "execution_count": 15,
     "metadata": {},
     "output_type": "execute_result"
    }
   ],
   "source": [
    "len(df_cusp['Community Board'].unique())"
   ]
  },
  {
   "cell_type": "code",
   "execution_count": 16,
   "metadata": {
    "collapsed": false
   },
   "outputs": [
    {
     "data": {
      "text/plain": [
       "Unique Key         77\n",
       "Community Board    77\n",
       "dtype: int64"
      ]
     },
     "execution_count": 16,
     "metadata": {},
     "output_type": "execute_result"
    }
   ],
   "source": [
    "df_cusp.count()"
   ]
  },
  {
   "cell_type": "code",
   "execution_count": 30,
   "metadata": {
    "collapsed": true
   },
   "outputs": [],
   "source": [
    "drop_dist = ['0 Unspecified', \n",
    "            'Unspecified MANHATTAN', '64 MANHATTAN', \n",
    "            'Unspecified BROOKLYN', '55 BROOKLYN', \n",
    "            'Unspecified BRONX', '26 BRONX', '27 BRONX', \n",
    "            'Unspecified QUEENS', '83 QUEENS', '80 QUEENS', '82 QUEENS', '81 QUEENS'\n",
    "            'Unspecified STATEN ISLAND', '95 STATEN ISLAND', ]"
   ]
  },
  {
   "cell_type": "code",
   "execution_count": 31,
   "metadata": {
    "collapsed": false
   },
   "outputs": [
    {
     "data": {
      "text/plain": [
       "64"
      ]
     },
     "execution_count": 31,
     "metadata": {},
     "output_type": "execute_result"
    }
   ],
   "source": [
    "df_cusp1 = df_cusp[~df_cusp['Community Board'].isin(drop_dist)]\n",
    "len(df_cusp1['Community Board'].unique())"
   ]
  },
  {
   "cell_type": "code",
   "execution_count": 32,
   "metadata": {
    "collapsed": false
   },
   "outputs": [
    {
     "data": {
      "text/plain": [
       "array(['13 BROOKLYN', '18 BROOKLYN', '12 BROOKLYN', '02 STATEN ISLAND',\n",
       "       '08 MANHATTAN', '06 BROOKLYN', '10 BRONX', '06 MANHATTAN',\n",
       "       '04 BROOKLYN', '04 QUEENS', '09 MANHATTAN', '14 BROOKLYN',\n",
       "       '05 MANHATTAN', '02 MANHATTAN', '10 QUEENS', '07 QUEENS',\n",
       "       '02 QUEENS', '11 BROOKLYN', '05 QUEENS', '05 BROOKLYN', '09 QUEENS',\n",
       "       '12 MANHATTAN', '01 BROOKLYN', '11 MANHATTAN', '03 BRONX',\n",
       "       '03 STATEN ISLAND', '08 BROOKLYN', '03 BROOKLYN', '07 MANHATTAN',\n",
       "       '10 MANHATTAN', '04 BRONX', '01 MANHATTAN', '07 BRONX', '09 BRONX',\n",
       "       '03 MANHATTAN', '13 QUEENS', '02 BRONX', '12 QUEENS', '16 BROOKLYN',\n",
       "       '08 QUEENS', '04 MANHATTAN', '14 QUEENS', '10 BROOKLYN',\n",
       "       '11 QUEENS', '06 BRONX', '08 BRONX', '05 BRONX', '15 BROOKLYN',\n",
       "       '02 BROOKLYN', '12 BRONX', '03 QUEENS', '06 QUEENS',\n",
       "       '01 STATEN ISLAND', '01 BRONX', '01 QUEENS', '17 BROOKLYN',\n",
       "       '11 BRONX', '09 BROOKLYN', '07 BROOKLYN', '81 QUEENS',\n",
       "       'Unspecified STATEN ISLAND', '28 BRONX', '56 BROOKLYN', '84 QUEENS'], dtype=object)"
      ]
     },
     "execution_count": 32,
     "metadata": {},
     "output_type": "execute_result"
    }
   ],
   "source": [
    "cdist_2 = df_cusp1['Community Board'].unique()\n",
    "cdist_2"
   ]
  }
 ],
 "metadata": {
  "kernelspec": {
   "display_name": "PUI2016_Python3",
   "language": "python",
   "name": "pui2016_python3"
  },
  "language_info": {
   "codemirror_mode": {
    "name": "ipython",
    "version": 3
   },
   "file_extension": ".py",
   "mimetype": "text/x-python",
   "name": "python",
   "nbconvert_exporter": "python",
   "pygments_lexer": "ipython3",
   "version": "3.5.2"
  }
 },
 "nbformat": 4,
 "nbformat_minor": 0
}
