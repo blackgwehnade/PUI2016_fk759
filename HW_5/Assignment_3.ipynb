{
 "cells": [
  {
   "cell_type": "code",
   "execution_count": null,
   "metadata": {
    "collapsed": true
   },
   "outputs": [],
   "source": [
    "#NULL HYPOTHESIS EXERCISE 1"
   ]
  },
  {
   "cell_type": "code",
   "execution_count": null,
   "metadata": {
    "collapsed": true
   },
   "outputs": [],
   "source": [
    "'''\n",
    "H0: Dieting helps to reduce body fat levels less than exercise does\n",
    "Ha: Dieting does help one reduce their body fat levels than exercise\n",
    "N0: Number of people in the control sample\n",
    "N1: Number of people in the test sample\n",
    "'''"
   ]
  },
  {
   "cell_type": "code",
   "execution_count": null,
   "metadata": {
    "collapsed": true
   },
   "outputs": [],
   "source": [
    "#NULL HYPOTHESIS EXERCISE 2"
   ]
  },
  {
   "cell_type": "code",
   "execution_count": null,
   "metadata": {
    "collapsed": true
   },
   "outputs": [],
   "source": [
    "'''\n",
    "H0: Americans tend to trust the sitting president of the United States\n",
    "Ha: Americans do not tend to trust the sitting president of the United States\n",
    "N1: 518\n",
    "'''"
   ]
  },
  {
   "cell_type": "code",
   "execution_count": null,
   "metadata": {
    "collapsed": true
   },
   "outputs": [],
   "source": [
    "#NULL HYPOTHESIS EXERCISE 3"
   ]
  },
  {
   "cell_type": "code",
   "execution_count": null,
   "metadata": {
    "collapsed": true
   },
   "outputs": [],
   "source": [
    "'''\n",
    "H0: Nicole patches do not contribute to a decrease in adult smoking rates\n",
    "Ha: Nicotine patches do indeed help to reduce adult smoking rates\n",
    "N0: Number of smokers assigned to use placebo patch\n",
    "N1: Number of smokers assigned to use nicotine patch\n",
    "'''"
   ]
  },
  {
   "cell_type": "code",
   "execution_count": null,
   "metadata": {
    "collapsed": true
   },
   "outputs": [],
   "source": [
    "#NULL HYPOTHESIS EXERCISE 4"
   ]
  },
  {
   "cell_type": "code",
   "execution_count": null,
   "metadata": {
    "collapsed": true
   },
   "outputs": [],
   "source": [
    "'''\n",
    "H0: Smoking while pregnant does not result in reduction of IQs for children\n",
    "    between the ages of 1 and 4 years old\n",
    "Ha: Smoking while pregnant will negatively affect the IQs of children aged 1-4\n",
    "N0: Sample group of children aged 1-4 whose mothers had not smoked within 6 months\n",
    "    before and during their pregnancy period\n",
    "N1: Sample group of children aged 1-4 whose mothers have confirmed to smoke within 6 months\n",
    "    before and during their pregnancy period\n",
    "'''"
   ]
  }
 ],
 "metadata": {
  "kernelspec": {
   "display_name": "PUI2016_Python2",
   "language": "python",
   "name": "pui2016_python2"
  },
  "language_info": {
   "codemirror_mode": {
    "name": "ipython",
    "version": 2
   },
   "file_extension": ".py",
   "mimetype": "text/x-python",
   "name": "python",
   "nbconvert_exporter": "python",
   "pygments_lexer": "ipython2",
   "version": "2.7.12"
  }
 },
 "nbformat": 4,
 "nbformat_minor": 0
}
