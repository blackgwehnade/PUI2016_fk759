{
 "cells": [
  {
   "cell_type": "code",
   "execution_count": 1,
   "metadata": {
    "collapsed": false
   },
   "outputs": [
    {
     "name": "stderr",
     "output_type": "stream",
     "text": [
      "/opt/rh/anaconda/root/envs/PUI2016_Python2/lib/python2.7/site-packages/IPython/html.py:14: ShimWarning: The `IPython.html` package has been deprecated. You should import from `notebook` instead. `IPython.html.widgets` has moved to `ipywidgets`.\n",
      "  \"`IPython.html.widgets` has moved to `ipywidgets`.\", ShimWarning)\n"
     ]
    },
    {
     "name": "stdout",
     "output_type": "stream",
     "text": [
      "Populating the interactive namespace from numpy and matplotlib\n"
     ]
    },
    {
     "name": "stderr",
     "output_type": "stream",
     "text": [
      "/opt/rh/anaconda/root/envs/PUI2016_Python2/lib/python2.7/site-packages/IPython/core/magics/pylab.py:161: UserWarning: pylab import has clobbered these variables: ['plt']\n",
      "`%matplotlib` prevents importing * from pylab and numpy\n",
      "  \"\\n`%matplotlib` prevents importing * from pylab and numpy\"\n"
     ]
    }
   ],
   "source": [
    "from __future__ import print_function, division\n",
    "import os\n",
    "import json\n",
    "import glob\n",
    "import seaborn\n",
    "import scipy.stats\n",
    "import numpy as np\n",
    "import pandas as pd\n",
    "import urllib as ulr\n",
    "import geopandas as gp\n",
    "import matplotlib.pylab as plt\n",
    "import statsmodels.formula.api as smf\n",
    "\n",
    "%matplotlib inline\n",
    "%pylab inline"
   ]
  },
  {
   "cell_type": "code",
   "execution_count": 2,
   "metadata": {
    "collapsed": false
   },
   "outputs": [
    {
     "data": {
      "text/plain": [
       "0"
      ]
     },
     "execution_count": 2,
     "metadata": {},
     "output_type": "execute_result"
    }
   ],
   "source": [
    "os.system(\"curl -O http://cosmo.nyu.edu/~fb55/PUI2016/data/NYPD_7_Major_Felony_Incidents.csv\")"
   ]
  },
  {
   "cell_type": "code",
   "execution_count": 3,
   "metadata": {
    "collapsed": false
   },
   "outputs": [
    {
     "data": {
      "text/plain": [
       "0"
      ]
     },
     "execution_count": 3,
     "metadata": {},
     "output_type": "execute_result"
    }
   ],
   "source": [
    "os.system(\"mv \" + \"NYPD_7_Major_Felony_Incidents.csv \" + os.getenv(\"PUIDATA\"))"
   ]
  },
  {
   "cell_type": "code",
   "execution_count": 4,
   "metadata": {
    "collapsed": false,
    "scrolled": true
   },
   "outputs": [
    {
     "data": {
      "text/plain": [
       "Index([u'OBJECTID', u'Identifier', u'Occurrence Date', u'Day of Week',\n",
       "       u'Occurrence Month', u'Occurrence Day', u'Occurrence Year',\n",
       "       u'Occurrence Hour', u'CompStat Month', u'CompStat Day',\n",
       "       u'CompStat Year', u'Offense', u'Offense Classification', u'Sector',\n",
       "       u'Precinct', u'Borough', u'Jurisdiction', u'XCoordinate',\n",
       "       u'YCoordinate', u'Location 1'],\n",
       "      dtype='object')"
      ]
     },
     "execution_count": 4,
     "metadata": {},
     "output_type": "execute_result"
    }
   ],
   "source": [
    "call_data = pd.read_csv(os.getenv('PUIDATA') + '/' + 'NYPD_7_Major_Felony_Incidents.csv')\n",
    "call_data.columns"
   ]
  },
  {
   "cell_type": "code",
   "execution_count": 5,
   "metadata": {
    "collapsed": false
   },
   "outputs": [
    {
     "data": {
      "text/html": [
       "<div>\n",
       "<table border=\"1\" class=\"dataframe\">\n",
       "  <thead>\n",
       "    <tr style=\"text-align: right;\">\n",
       "      <th></th>\n",
       "      <th>OBJECTID</th>\n",
       "      <th>Identifier</th>\n",
       "      <th>Occurrence Date</th>\n",
       "      <th>Day of Week</th>\n",
       "      <th>Occurrence Month</th>\n",
       "      <th>Occurrence Day</th>\n",
       "      <th>Occurrence Year</th>\n",
       "      <th>Occurrence Hour</th>\n",
       "      <th>CompStat Month</th>\n",
       "      <th>CompStat Day</th>\n",
       "      <th>CompStat Year</th>\n",
       "      <th>Offense</th>\n",
       "      <th>Offense Classification</th>\n",
       "      <th>Sector</th>\n",
       "      <th>Precinct</th>\n",
       "      <th>Borough</th>\n",
       "      <th>Jurisdiction</th>\n",
       "      <th>XCoordinate</th>\n",
       "      <th>YCoordinate</th>\n",
       "      <th>Location 1</th>\n",
       "    </tr>\n",
       "  </thead>\n",
       "  <tbody>\n",
       "    <tr>\n",
       "      <th>0</th>\n",
       "      <td>1107108</td>\n",
       "      <td>3d8920cf</td>\n",
       "      <td>03/01/2015 12:01:00 AM</td>\n",
       "      <td>Sunday</td>\n",
       "      <td>Mar</td>\n",
       "      <td>1</td>\n",
       "      <td>2015</td>\n",
       "      <td>0</td>\n",
       "      <td>6</td>\n",
       "      <td>17</td>\n",
       "      <td>2015</td>\n",
       "      <td>RAPE</td>\n",
       "      <td>FELONY</td>\n",
       "      <td>A</td>\n",
       "      <td>101</td>\n",
       "      <td>QUEENS</td>\n",
       "      <td>N.Y. POLICE DEPT</td>\n",
       "      <td>1053678</td>\n",
       "      <td>159044</td>\n",
       "      <td>(40.6029515910001, -73.749976261)</td>\n",
       "    </tr>\n",
       "    <tr>\n",
       "      <th>1</th>\n",
       "      <td>1107109</td>\n",
       "      <td>8c295251</td>\n",
       "      <td>03/01/2015 12:01:00 AM</td>\n",
       "      <td>Sunday</td>\n",
       "      <td>Mar</td>\n",
       "      <td>1</td>\n",
       "      <td>2015</td>\n",
       "      <td>0</td>\n",
       "      <td>3</td>\n",
       "      <td>1</td>\n",
       "      <td>2015</td>\n",
       "      <td>GRAND LARCENY</td>\n",
       "      <td>FELONY</td>\n",
       "      <td>H</td>\n",
       "      <td>62</td>\n",
       "      <td>BROOKLYN</td>\n",
       "      <td>N.Y. POLICE DEPT</td>\n",
       "      <td>983057</td>\n",
       "      <td>163228</td>\n",
       "      <td>(40.6147076880001, -74.0042984409999)</td>\n",
       "    </tr>\n",
       "    <tr>\n",
       "      <th>2</th>\n",
       "      <td>1107110</td>\n",
       "      <td>303d301b</td>\n",
       "      <td>03/01/2015 12:01:00 AM</td>\n",
       "      <td>Sunday</td>\n",
       "      <td>Mar</td>\n",
       "      <td>1</td>\n",
       "      <td>2015</td>\n",
       "      <td>0</td>\n",
       "      <td>4</td>\n",
       "      <td>9</td>\n",
       "      <td>2015</td>\n",
       "      <td>RAPE</td>\n",
       "      <td>FELONY</td>\n",
       "      <td>C</td>\n",
       "      <td>66</td>\n",
       "      <td>BROOKLYN</td>\n",
       "      <td>N.Y. POLICE DEPT</td>\n",
       "      <td>986633</td>\n",
       "      <td>167258</td>\n",
       "      <td>(40.6257689610001, -73.991416822)</td>\n",
       "    </tr>\n",
       "    <tr>\n",
       "      <th>3</th>\n",
       "      <td>1107111</td>\n",
       "      <td>3edb706a</td>\n",
       "      <td>03/01/2015 12:01:00 AM</td>\n",
       "      <td>Sunday</td>\n",
       "      <td>Mar</td>\n",
       "      <td>1</td>\n",
       "      <td>2015</td>\n",
       "      <td>0</td>\n",
       "      <td>3</td>\n",
       "      <td>1</td>\n",
       "      <td>2015</td>\n",
       "      <td>GRAND LARCENY OF MOTOR VEHICLE</td>\n",
       "      <td>FELONY</td>\n",
       "      <td>A</td>\n",
       "      <td>121</td>\n",
       "      <td>STATEN ISLAND</td>\n",
       "      <td>N.Y. POLICE DEPT</td>\n",
       "      <td>936734</td>\n",
       "      <td>171157</td>\n",
       "      <td>(40.63634376, -74.171202292)</td>\n",
       "    </tr>\n",
       "    <tr>\n",
       "      <th>4</th>\n",
       "      <td>1107193</td>\n",
       "      <td>94d0b3da</td>\n",
       "      <td>03/01/2015 12:01:00 AM</td>\n",
       "      <td>Sunday</td>\n",
       "      <td>Mar</td>\n",
       "      <td>1</td>\n",
       "      <td>2015</td>\n",
       "      <td>0</td>\n",
       "      <td>3</td>\n",
       "      <td>19</td>\n",
       "      <td>2015</td>\n",
       "      <td>GRAND LARCENY</td>\n",
       "      <td>FELONY</td>\n",
       "      <td>G</td>\n",
       "      <td>71</td>\n",
       "      <td>BROOKLYN</td>\n",
       "      <td>N.Y. POLICE DEPT</td>\n",
       "      <td>1002927</td>\n",
       "      <td>182323</td>\n",
       "      <td>(40.6670997620001, -73.932676944)</td>\n",
       "    </tr>\n",
       "  </tbody>\n",
       "</table>\n",
       "</div>"
      ],
      "text/plain": [
       "   OBJECTID Identifier         Occurrence Date Day of Week Occurrence Month  \\\n",
       "0   1107108   3d8920cf  03/01/2015 12:01:00 AM      Sunday              Mar   \n",
       "1   1107109   8c295251  03/01/2015 12:01:00 AM      Sunday              Mar   \n",
       "2   1107110   303d301b  03/01/2015 12:01:00 AM      Sunday              Mar   \n",
       "3   1107111   3edb706a  03/01/2015 12:01:00 AM      Sunday              Mar   \n",
       "4   1107193   94d0b3da  03/01/2015 12:01:00 AM      Sunday              Mar   \n",
       "\n",
       "   Occurrence Day  Occurrence Year  Occurrence Hour  CompStat Month  \\\n",
       "0               1             2015                0               6   \n",
       "1               1             2015                0               3   \n",
       "2               1             2015                0               4   \n",
       "3               1             2015                0               3   \n",
       "4               1             2015                0               3   \n",
       "\n",
       "   CompStat Day  CompStat Year                         Offense  \\\n",
       "0            17           2015                            RAPE   \n",
       "1             1           2015                   GRAND LARCENY   \n",
       "2             9           2015                            RAPE   \n",
       "3             1           2015  GRAND LARCENY OF MOTOR VEHICLE   \n",
       "4            19           2015                   GRAND LARCENY   \n",
       "\n",
       "  Offense Classification Sector  Precinct        Borough      Jurisdiction  \\\n",
       "0                 FELONY      A       101         QUEENS  N.Y. POLICE DEPT   \n",
       "1                 FELONY      H        62       BROOKLYN  N.Y. POLICE DEPT   \n",
       "2                 FELONY      C        66       BROOKLYN  N.Y. POLICE DEPT   \n",
       "3                 FELONY      A       121  STATEN ISLAND  N.Y. POLICE DEPT   \n",
       "4                 FELONY      G        71       BROOKLYN  N.Y. POLICE DEPT   \n",
       "\n",
       "   XCoordinate  YCoordinate                             Location 1  \n",
       "0      1053678       159044      (40.6029515910001, -73.749976261)  \n",
       "1       983057       163228  (40.6147076880001, -74.0042984409999)  \n",
       "2       986633       167258      (40.6257689610001, -73.991416822)  \n",
       "3       936734       171157           (40.63634376, -74.171202292)  \n",
       "4      1002927       182323      (40.6670997620001, -73.932676944)  "
      ]
     },
     "execution_count": 5,
     "metadata": {},
     "output_type": "execute_result"
    }
   ],
   "source": [
    "call_data.head()"
   ]
  },
  {
   "cell_type": "code",
   "execution_count": 6,
   "metadata": {
    "collapsed": false
   },
   "outputs": [],
   "source": [
    "call_data.drop([u'OBJECTID', u'Identifier', u'Occurrence Date', u'Day of Week',\n",
    "       u'Occurrence Month', u'Occurrence Day', u'Occurrence Year',\n",
    "       u'Occurrence Hour', u'CompStat Day',\n",
    "       u'CompStat Year', u'Offense Classification', u'Sector',\n",
    "       u'Precinct', u'Borough', u'Jurisdiction', u'XCoordinate',\n",
    "       u'YCoordinate', u'Location 1'], axis = 1, inplace = True)"
   ]
  },
  {
   "cell_type": "code",
   "execution_count": 12,
   "metadata": {
    "collapsed": false
   },
   "outputs": [
    {
     "data": {
      "text/html": [
       "<div>\n",
       "<table border=\"1\" class=\"dataframe\">\n",
       "  <thead>\n",
       "    <tr style=\"text-align: right;\">\n",
       "      <th></th>\n",
       "      <th>CompStat Month</th>\n",
       "      <th>Offense</th>\n",
       "    </tr>\n",
       "  </thead>\n",
       "  <tbody>\n",
       "    <tr>\n",
       "      <th>0</th>\n",
       "      <td>6</td>\n",
       "      <td>RAPE</td>\n",
       "    </tr>\n",
       "    <tr>\n",
       "      <th>1</th>\n",
       "      <td>3</td>\n",
       "      <td>GRAND LARCENY</td>\n",
       "    </tr>\n",
       "    <tr>\n",
       "      <th>2</th>\n",
       "      <td>4</td>\n",
       "      <td>RAPE</td>\n",
       "    </tr>\n",
       "    <tr>\n",
       "      <th>3</th>\n",
       "      <td>3</td>\n",
       "      <td>GRAND LARCENY OF MOTOR VEHICLE</td>\n",
       "    </tr>\n",
       "    <tr>\n",
       "      <th>4</th>\n",
       "      <td>3</td>\n",
       "      <td>GRAND LARCENY</td>\n",
       "    </tr>\n",
       "  </tbody>\n",
       "</table>\n",
       "</div>"
      ],
      "text/plain": [
       "   CompStat Month                         Offense\n",
       "0               6                            RAPE\n",
       "1               3                   GRAND LARCENY\n",
       "2               4                            RAPE\n",
       "3               3  GRAND LARCENY OF MOTOR VEHICLE\n",
       "4               3                   GRAND LARCENY"
      ]
     },
     "execution_count": 12,
     "metadata": {},
     "output_type": "execute_result"
    }
   ],
   "source": [
    "call_data.columns\n",
    "call_data.head()"
   ]
  },
  {
   "cell_type": "code",
   "execution_count": 16,
   "metadata": {
    "collapsed": false
   },
   "outputs": [],
   "source": [
    "#dfrm.drop(dfrm.index[len(dfrm)-1])\n",
    "call_data_plot = call_data.drop(call_data.index[range(10001,88319)])"
   ]
  },
  {
   "cell_type": "code",
   "execution_count": 18,
   "metadata": {
    "collapsed": false
   },
   "outputs": [
    {
     "data": {
      "text/plain": [
       "<matplotlib.text.Text at 0x7ff149ffc290>"
      ]
     },
     "execution_count": 18,
     "metadata": {},
     "output_type": "execute_result"
    },
    {
     "data": {
      "image/png": "[encoded data removed]",
      "text/plain": [
       "<matplotlib.figure.Figure at 0x7ff14a08d7d0>"
      ]
     },
     "metadata": {},
     "output_type": "display_data"
    }
   ],
   "source": [
    "plt.bar(x_ax, dv)\n",
    "plt.title('Felonies as a function of Month')\n",
    "plt.xlabel('Number of Felonies')\n",
    "plt.ylabel('Month')"
   ]
  },
  {
   "cell_type": "code",
   "execution_count": 19,
   "metadata": {
    "collapsed": true
   },
   "outputs": [],
   "source": [
    "plt.show()"
   ]
  }
 ],
 "metadata": {
  "kernelspec": {
   "display_name": "PUI2016_Python2",
   "language": "python",
   "name": "pui2016_python2"
  },
  "language_info": {
   "codemirror_mode": {
    "name": "ipython",
    "version": 2
   },
   "file_extension": ".py",
   "mimetype": "text/x-python",
   "name": "python",
   "nbconvert_exporter": "python",
   "pygments_lexer": "ipython2",
   "version": "2.7.12"
  }
 },
 "nbformat": 4,
 "nbformat_minor": 0
}
